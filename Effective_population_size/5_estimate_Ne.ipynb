{
 "cells": [
  {
   "cell_type": "markdown",
   "metadata": {},
   "source": [
    "## Start R code here"
   ]
  },
  {
   "cell_type": "code",
   "execution_count": 1,
   "metadata": {
    "collapsed": false
   },
   "outputs": [],
   "source": [
    "# run the scripts below, used to define functions shared across multiple scripts\n",
    "source('./scripts/R_functions.r')"
   ]
  },
  {
   "cell_type": "code",
   "execution_count": 2,
   "metadata": {
    "collapsed": false
   },
   "outputs": [],
   "source": [
    "# Make an empty data frame to store the results\n",
    "DF <- data.frame(Pop=rep(NA, 6), Site=rep(NA, 6), Lineage=rep(NA, 6), Ne_est=rep(NA, 6))"
   ]
  },
  {
   "cell_type": "code",
   "execution_count": 3,
   "metadata": {
    "collapsed": false
   },
   "outputs": [
    {
     "data": {
      "text/html": [
       "<table>\n",
       "<thead><tr><th scope=col>Pop</th><th scope=col>Site</th><th scope=col>Lineage</th><th scope=col>Ne_est</th></tr></thead>\n",
       "<tbody>\n",
       "\t<tr><td>Nome_ODD        </td><td>Nome            </td><td>ODD             </td><td>2014.42557567929</td></tr>\n",
       "\t<tr><td>Nome_EVEN       </td><td>Nome            </td><td>EVEN            </td><td>3691.29596294112</td></tr>\n",
       "\t<tr><td>Koppen_ODD      </td><td>Koppen          </td><td>ODD             </td><td>2079.5810007219 </td></tr>\n",
       "\t<tr><td>Koppen_EVEN     </td><td>Koppen          </td><td>EVEN            </td><td>9087.46320481003</td></tr>\n",
       "\t<tr><td>Puget_ODD       </td><td>Puget           </td><td>ODD             </td><td>2934.27555677135</td></tr>\n",
       "\t<tr><td>Puget_EVEN      </td><td>Puget           </td><td>EVEN            </td><td>1805.56226291709</td></tr>\n",
       "</tbody>\n",
       "</table>\n"
      ],
      "text/latex": [
       "\\begin{tabular}{r|llll}\n",
       " Pop & Site & Lineage & Ne\\_est\\\\\n",
       "\\hline\n",
       "\t Nome\\_ODD       & Nome             & ODD              & 2014.42557567929\\\\\n",
       "\t Nome\\_EVEN      & Nome             & EVEN             & 3691.29596294112\\\\\n",
       "\t Koppen\\_ODD     & Koppen           & ODD              & 2079.5810007219 \\\\\n",
       "\t Koppen\\_EVEN    & Koppen           & EVEN             & 9087.46320481003\\\\\n",
       "\t Puget\\_ODD      & Puget            & ODD              & 2934.27555677135\\\\\n",
       "\t Puget\\_EVEN     & Puget            & EVEN             & 1805.56226291709\\\\\n",
       "\\end{tabular}\n"
      ],
      "text/markdown": [
       "\n",
       "Pop | Site | Lineage | Ne_est | \n",
       "|---|---|---|---|---|---|\n",
       "| Nome_ODD         | Nome             | ODD              | 2014.42557567929 | \n",
       "| Nome_EVEN        | Nome             | EVEN             | 3691.29596294112 | \n",
       "| Koppen_ODD       | Koppen           | ODD              | 2079.5810007219  | \n",
       "| Koppen_EVEN      | Koppen           | EVEN             | 9087.46320481003 | \n",
       "| Puget_ODD        | Puget            | ODD              | 2934.27555677135 | \n",
       "| Puget_EVEN       | Puget            | EVEN             | 1805.56226291709 | \n",
       "\n",
       "\n"
      ],
      "text/plain": [
       "  Pop         Site   Lineage Ne_est          \n",
       "1 Nome_ODD    Nome   ODD     2014.42557567929\n",
       "2 Nome_EVEN   Nome   EVEN    3691.29596294112\n",
       "3 Koppen_ODD  Koppen ODD     2079.5810007219 \n",
       "4 Koppen_EVEN Koppen EVEN    9087.46320481003\n",
       "5 Puget_ODD   Puget  ODD     2934.27555677135\n",
       "6 Puget_EVEN  Puget  EVEN    1805.56226291709"
      ]
     },
     "metadata": {},
     "output_type": "display_data"
    }
   ],
   "source": [
    "# Estaimte Ne and store the results in a dataframe\n",
    "Pops = c('Nome_ODD','Nome_EVEN', 'Koppen_ODD', 'Koppen_EVEN', 'Puget_ODD', 'Puget_EVEN')\n",
    "\n",
    "for (index in 1:6){\n",
    "    POP = Pops[index]\n",
    "    site = strsplit(POP, split = '_')[[1]][1]\n",
    "    lin = strsplit(POP, split = '_')[[1]][2]\n",
    "    res = get_Ne(base_path = paste(\"./work/\", POP, sep = ''))\n",
    "    DF[index, ] = c(POP, site, lin, res$Ne_est)\n",
    "}\n",
    "\n",
    "# take a look at the results \n",
    "DF"
   ]
  },
  {
   "cell_type": "code",
   "execution_count": 4,
   "metadata": {
    "collapsed": false
   },
   "outputs": [],
   "source": [
    "write.table(DF, \"./work/Ne_estimates.txt\", sep = '\\t', quote = FALSE, row.names = FALSE)"
   ]
  }
 ],
 "metadata": {
  "kernelspec": {
   "display_name": "R",
   "language": "R",
   "name": "ir"
  },
  "language_info": {
   "codemirror_mode": "r",
   "file_extension": ".r",
   "mimetype": "text/x-r-source",
   "name": "R",
   "pygments_lexer": "r",
   "version": "3.3.2"
  }
 },
 "nbformat": 4,
 "nbformat_minor": 2
}
